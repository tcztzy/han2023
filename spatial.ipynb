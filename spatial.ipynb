{
 "cells": [
  {
   "cell_type": "code",
   "execution_count": 33,
   "metadata": {
    "vscode": {
     "languageId": "r"
    }
   },
   "outputs": [
    {
     "name": "stderr",
     "output_type": "stream",
     "text": [
      "\u001b[1m\u001b[22m\u001b[90m[conflicted]\u001b[39m Removing existing preference.\n",
      "\u001b[1m\u001b[22m\u001b[90m[conflicted]\u001b[39m Will prefer \u001b[1m\u001b[34mstats\u001b[39m\u001b[22m::lag over any other package.\n",
      "\u001b[1m\u001b[22m\u001b[90m[conflicted]\u001b[39m Removing existing preference.\n",
      "\u001b[1m\u001b[22m\u001b[90m[conflicted]\u001b[39m Will prefer \u001b[1m\u001b[34mdplyr\u001b[39m\u001b[22m::filter over any other package.\n",
      "\u001b[1mRows: \u001b[22m\u001b[34m263\u001b[39m \u001b[1mColumns: \u001b[22m\u001b[34m264\u001b[39m\n",
      "\u001b[36m──\u001b[39m \u001b[1mColumn specification\u001b[22m \u001b[36m────────────────────────────────────────────────────────\u001b[39m\n",
      "\u001b[1mDelimiter:\u001b[22m \",\"\n",
      "\u001b[31mchr\u001b[39m   (1): GID_0\n",
      "\u001b[32mdbl\u001b[39m (263): ABW, AFG, AGO, AIA, ALA, ALB, AND, ARE, ARG, ARM, ASM, ATA, ATF, ...\n",
      "\n",
      "\u001b[36mℹ\u001b[39m Use `spec()` to retrieve the full column specification for this data.\n",
      "\u001b[36mℹ\u001b[39m Specify the column types or set `show_col_types = FALSE` to quiet this message.\n",
      "\u001b[1m\u001b[22mNew names:\n",
      "\u001b[36m•\u001b[39m `` -> `...1`\n"
     ]
    },
    {
     "data": {
      "text/html": [
       "<table class=\"dataframe\">\n",
       "<caption>A data.frame: 22 × 22</caption>\n",
       "<thead>\n",
       "\t<tr><th></th><th scope=col>AGO</th><th scope=col>BEN</th><th scope=col>BWA</th><th scope=col>BFA</th><th scope=col>CMR</th><th scope=col>COD</th><th scope=col>COG</th><th scope=col>GMB</th><th scope=col>GHA</th><th scope=col>KEN</th><th scope=col>⋯</th><th scope=col>MUS</th><th scope=col>NAM</th><th scope=col>NER</th><th scope=col>NGA</th><th scope=col>RWA</th><th scope=col>SEN</th><th scope=col>ZAF</th><th scope=col>UGA</th><th scope=col>ZMB</th><th scope=col>ZWE</th></tr>\n",
       "\t<tr><th></th><th scope=col>&lt;dbl&gt;</th><th scope=col>&lt;dbl&gt;</th><th scope=col>&lt;dbl&gt;</th><th scope=col>&lt;dbl&gt;</th><th scope=col>&lt;dbl&gt;</th><th scope=col>&lt;dbl&gt;</th><th scope=col>&lt;dbl&gt;</th><th scope=col>&lt;dbl&gt;</th><th scope=col>&lt;dbl&gt;</th><th scope=col>&lt;dbl&gt;</th><th scope=col>⋯</th><th scope=col>&lt;dbl&gt;</th><th scope=col>&lt;dbl&gt;</th><th scope=col>&lt;dbl&gt;</th><th scope=col>&lt;dbl&gt;</th><th scope=col>&lt;dbl&gt;</th><th scope=col>&lt;dbl&gt;</th><th scope=col>&lt;dbl&gt;</th><th scope=col>&lt;dbl&gt;</th><th scope=col>&lt;dbl&gt;</th><th scope=col>&lt;dbl&gt;</th></tr>\n",
       "</thead>\n",
       "<tbody>\n",
       "\t<tr><th scope=row>AGO</th><td>0</td><td>0</td><td>0</td><td>0</td><td>0</td><td>1</td><td>1</td><td>0</td><td>0</td><td>0</td><td>⋯</td><td>0</td><td>1</td><td>0</td><td>0</td><td>0</td><td>0</td><td>0</td><td>0</td><td>1</td><td>0</td></tr>\n",
       "\t<tr><th scope=row>BEN</th><td>0</td><td>0</td><td>0</td><td>1</td><td>0</td><td>0</td><td>0</td><td>0</td><td>0</td><td>0</td><td>⋯</td><td>0</td><td>0</td><td>1</td><td>1</td><td>0</td><td>0</td><td>0</td><td>0</td><td>0</td><td>0</td></tr>\n",
       "\t<tr><th scope=row>BWA</th><td>0</td><td>0</td><td>0</td><td>0</td><td>0</td><td>0</td><td>0</td><td>0</td><td>0</td><td>0</td><td>⋯</td><td>0</td><td>1</td><td>0</td><td>0</td><td>0</td><td>0</td><td>1</td><td>0</td><td>0</td><td>1</td></tr>\n",
       "\t<tr><th scope=row>BFA</th><td>0</td><td>1</td><td>0</td><td>0</td><td>0</td><td>0</td><td>0</td><td>0</td><td>1</td><td>0</td><td>⋯</td><td>0</td><td>0</td><td>1</td><td>0</td><td>0</td><td>0</td><td>0</td><td>0</td><td>0</td><td>0</td></tr>\n",
       "\t<tr><th scope=row>CMR</th><td>0</td><td>0</td><td>0</td><td>0</td><td>0</td><td>0</td><td>1</td><td>0</td><td>0</td><td>0</td><td>⋯</td><td>0</td><td>0</td><td>0</td><td>1</td><td>0</td><td>0</td><td>0</td><td>0</td><td>0</td><td>0</td></tr>\n",
       "\t<tr><th scope=row>COD</th><td>1</td><td>0</td><td>0</td><td>0</td><td>0</td><td>0</td><td>1</td><td>0</td><td>0</td><td>0</td><td>⋯</td><td>0</td><td>0</td><td>0</td><td>0</td><td>1</td><td>0</td><td>0</td><td>1</td><td>1</td><td>0</td></tr>\n",
       "\t<tr><th scope=row>COG</th><td>1</td><td>0</td><td>0</td><td>0</td><td>1</td><td>1</td><td>0</td><td>0</td><td>0</td><td>0</td><td>⋯</td><td>0</td><td>0</td><td>0</td><td>0</td><td>0</td><td>0</td><td>0</td><td>0</td><td>0</td><td>0</td></tr>\n",
       "\t<tr><th scope=row>GMB</th><td>0</td><td>0</td><td>0</td><td>0</td><td>0</td><td>0</td><td>0</td><td>0</td><td>0</td><td>0</td><td>⋯</td><td>0</td><td>0</td><td>0</td><td>0</td><td>0</td><td>1</td><td>0</td><td>0</td><td>0</td><td>0</td></tr>\n",
       "\t<tr><th scope=row>GHA</th><td>0</td><td>0</td><td>0</td><td>1</td><td>0</td><td>0</td><td>0</td><td>0</td><td>0</td><td>0</td><td>⋯</td><td>0</td><td>0</td><td>0</td><td>0</td><td>0</td><td>0</td><td>0</td><td>0</td><td>0</td><td>0</td></tr>\n",
       "\t<tr><th scope=row>KEN</th><td>0</td><td>0</td><td>0</td><td>0</td><td>0</td><td>0</td><td>0</td><td>0</td><td>0</td><td>0</td><td>⋯</td><td>0</td><td>0</td><td>0</td><td>0</td><td>0</td><td>0</td><td>0</td><td>1</td><td>0</td><td>0</td></tr>\n",
       "\t<tr><th scope=row>MDG</th><td>0</td><td>0</td><td>0</td><td>0</td><td>0</td><td>0</td><td>0</td><td>0</td><td>0</td><td>1</td><td>⋯</td><td>0</td><td>0</td><td>0</td><td>0</td><td>0</td><td>0</td><td>0</td><td>0</td><td>0</td><td>0</td></tr>\n",
       "\t<tr><th scope=row>MLI</th><td>0</td><td>0</td><td>0</td><td>1</td><td>0</td><td>0</td><td>0</td><td>0</td><td>0</td><td>0</td><td>⋯</td><td>0</td><td>0</td><td>1</td><td>0</td><td>0</td><td>1</td><td>0</td><td>0</td><td>0</td><td>0</td></tr>\n",
       "\t<tr><th scope=row>MUS</th><td>0</td><td>0</td><td>0</td><td>0</td><td>0</td><td>0</td><td>0</td><td>0</td><td>0</td><td>0</td><td>⋯</td><td>0</td><td>0</td><td>0</td><td>0</td><td>0</td><td>0</td><td>0</td><td>0</td><td>0</td><td>0</td></tr>\n",
       "\t<tr><th scope=row>NAM</th><td>1</td><td>0</td><td>1</td><td>0</td><td>0</td><td>0</td><td>0</td><td>0</td><td>0</td><td>0</td><td>⋯</td><td>0</td><td>0</td><td>0</td><td>0</td><td>0</td><td>0</td><td>1</td><td>0</td><td>1</td><td>1</td></tr>\n",
       "\t<tr><th scope=row>NER</th><td>0</td><td>1</td><td>0</td><td>1</td><td>0</td><td>0</td><td>0</td><td>0</td><td>0</td><td>0</td><td>⋯</td><td>0</td><td>0</td><td>0</td><td>1</td><td>0</td><td>0</td><td>0</td><td>0</td><td>0</td><td>0</td></tr>\n",
       "\t<tr><th scope=row>NGA</th><td>0</td><td>1</td><td>0</td><td>0</td><td>1</td><td>0</td><td>0</td><td>0</td><td>0</td><td>0</td><td>⋯</td><td>0</td><td>0</td><td>1</td><td>0</td><td>0</td><td>0</td><td>0</td><td>0</td><td>0</td><td>0</td></tr>\n",
       "\t<tr><th scope=row>RWA</th><td>0</td><td>0</td><td>0</td><td>0</td><td>0</td><td>1</td><td>0</td><td>0</td><td>0</td><td>0</td><td>⋯</td><td>0</td><td>0</td><td>0</td><td>0</td><td>0</td><td>0</td><td>0</td><td>1</td><td>0</td><td>0</td></tr>\n",
       "\t<tr><th scope=row>SEN</th><td>0</td><td>0</td><td>0</td><td>0</td><td>0</td><td>0</td><td>0</td><td>1</td><td>0</td><td>0</td><td>⋯</td><td>0</td><td>0</td><td>0</td><td>0</td><td>0</td><td>0</td><td>0</td><td>0</td><td>0</td><td>0</td></tr>\n",
       "\t<tr><th scope=row>ZAF</th><td>0</td><td>0</td><td>1</td><td>0</td><td>0</td><td>0</td><td>0</td><td>0</td><td>0</td><td>0</td><td>⋯</td><td>0</td><td>1</td><td>0</td><td>0</td><td>0</td><td>0</td><td>0</td><td>0</td><td>0</td><td>1</td></tr>\n",
       "\t<tr><th scope=row>UGA</th><td>0</td><td>0</td><td>0</td><td>0</td><td>0</td><td>1</td><td>0</td><td>0</td><td>0</td><td>1</td><td>⋯</td><td>0</td><td>0</td><td>0</td><td>0</td><td>1</td><td>0</td><td>0</td><td>0</td><td>0</td><td>0</td></tr>\n",
       "\t<tr><th scope=row>ZMB</th><td>1</td><td>0</td><td>0</td><td>0</td><td>0</td><td>1</td><td>0</td><td>0</td><td>0</td><td>0</td><td>⋯</td><td>0</td><td>1</td><td>0</td><td>0</td><td>0</td><td>0</td><td>0</td><td>0</td><td>0</td><td>1</td></tr>\n",
       "\t<tr><th scope=row>ZWE</th><td>0</td><td>0</td><td>1</td><td>0</td><td>0</td><td>0</td><td>0</td><td>0</td><td>0</td><td>0</td><td>⋯</td><td>0</td><td>1</td><td>0</td><td>0</td><td>0</td><td>0</td><td>1</td><td>0</td><td>1</td><td>0</td></tr>\n",
       "</tbody>\n",
       "</table>\n"
      ],
      "text/latex": [
       "A data.frame: 22 × 22\n",
       "\\begin{tabular}{r|lllllllllllllllllllll}\n",
       "  & AGO & BEN & BWA & BFA & CMR & COD & COG & GMB & GHA & KEN & ⋯ & MUS & NAM & NER & NGA & RWA & SEN & ZAF & UGA & ZMB & ZWE\\\\\n",
       "  & <dbl> & <dbl> & <dbl> & <dbl> & <dbl> & <dbl> & <dbl> & <dbl> & <dbl> & <dbl> & ⋯ & <dbl> & <dbl> & <dbl> & <dbl> & <dbl> & <dbl> & <dbl> & <dbl> & <dbl> & <dbl>\\\\\n",
       "\\hline\n",
       "\tAGO & 0 & 0 & 0 & 0 & 0 & 1 & 1 & 0 & 0 & 0 & ⋯ & 0 & 1 & 0 & 0 & 0 & 0 & 0 & 0 & 1 & 0\\\\\n",
       "\tBEN & 0 & 0 & 0 & 1 & 0 & 0 & 0 & 0 & 0 & 0 & ⋯ & 0 & 0 & 1 & 1 & 0 & 0 & 0 & 0 & 0 & 0\\\\\n",
       "\tBWA & 0 & 0 & 0 & 0 & 0 & 0 & 0 & 0 & 0 & 0 & ⋯ & 0 & 1 & 0 & 0 & 0 & 0 & 1 & 0 & 0 & 1\\\\\n",
       "\tBFA & 0 & 1 & 0 & 0 & 0 & 0 & 0 & 0 & 1 & 0 & ⋯ & 0 & 0 & 1 & 0 & 0 & 0 & 0 & 0 & 0 & 0\\\\\n",
       "\tCMR & 0 & 0 & 0 & 0 & 0 & 0 & 1 & 0 & 0 & 0 & ⋯ & 0 & 0 & 0 & 1 & 0 & 0 & 0 & 0 & 0 & 0\\\\\n",
       "\tCOD & 1 & 0 & 0 & 0 & 0 & 0 & 1 & 0 & 0 & 0 & ⋯ & 0 & 0 & 0 & 0 & 1 & 0 & 0 & 1 & 1 & 0\\\\\n",
       "\tCOG & 1 & 0 & 0 & 0 & 1 & 1 & 0 & 0 & 0 & 0 & ⋯ & 0 & 0 & 0 & 0 & 0 & 0 & 0 & 0 & 0 & 0\\\\\n",
       "\tGMB & 0 & 0 & 0 & 0 & 0 & 0 & 0 & 0 & 0 & 0 & ⋯ & 0 & 0 & 0 & 0 & 0 & 1 & 0 & 0 & 0 & 0\\\\\n",
       "\tGHA & 0 & 0 & 0 & 1 & 0 & 0 & 0 & 0 & 0 & 0 & ⋯ & 0 & 0 & 0 & 0 & 0 & 0 & 0 & 0 & 0 & 0\\\\\n",
       "\tKEN & 0 & 0 & 0 & 0 & 0 & 0 & 0 & 0 & 0 & 0 & ⋯ & 0 & 0 & 0 & 0 & 0 & 0 & 0 & 1 & 0 & 0\\\\\n",
       "\tMDG & 0 & 0 & 0 & 0 & 0 & 0 & 0 & 0 & 0 & 1 & ⋯ & 0 & 0 & 0 & 0 & 0 & 0 & 0 & 0 & 0 & 0\\\\\n",
       "\tMLI & 0 & 0 & 0 & 1 & 0 & 0 & 0 & 0 & 0 & 0 & ⋯ & 0 & 0 & 1 & 0 & 0 & 1 & 0 & 0 & 0 & 0\\\\\n",
       "\tMUS & 0 & 0 & 0 & 0 & 0 & 0 & 0 & 0 & 0 & 0 & ⋯ & 0 & 0 & 0 & 0 & 0 & 0 & 0 & 0 & 0 & 0\\\\\n",
       "\tNAM & 1 & 0 & 1 & 0 & 0 & 0 & 0 & 0 & 0 & 0 & ⋯ & 0 & 0 & 0 & 0 & 0 & 0 & 1 & 0 & 1 & 1\\\\\n",
       "\tNER & 0 & 1 & 0 & 1 & 0 & 0 & 0 & 0 & 0 & 0 & ⋯ & 0 & 0 & 0 & 1 & 0 & 0 & 0 & 0 & 0 & 0\\\\\n",
       "\tNGA & 0 & 1 & 0 & 0 & 1 & 0 & 0 & 0 & 0 & 0 & ⋯ & 0 & 0 & 1 & 0 & 0 & 0 & 0 & 0 & 0 & 0\\\\\n",
       "\tRWA & 0 & 0 & 0 & 0 & 0 & 1 & 0 & 0 & 0 & 0 & ⋯ & 0 & 0 & 0 & 0 & 0 & 0 & 0 & 1 & 0 & 0\\\\\n",
       "\tSEN & 0 & 0 & 0 & 0 & 0 & 0 & 0 & 1 & 0 & 0 & ⋯ & 0 & 0 & 0 & 0 & 0 & 0 & 0 & 0 & 0 & 0\\\\\n",
       "\tZAF & 0 & 0 & 1 & 0 & 0 & 0 & 0 & 0 & 0 & 0 & ⋯ & 0 & 1 & 0 & 0 & 0 & 0 & 0 & 0 & 0 & 1\\\\\n",
       "\tUGA & 0 & 0 & 0 & 0 & 0 & 1 & 0 & 0 & 0 & 1 & ⋯ & 0 & 0 & 0 & 0 & 1 & 0 & 0 & 0 & 0 & 0\\\\\n",
       "\tZMB & 1 & 0 & 0 & 0 & 0 & 1 & 0 & 0 & 0 & 0 & ⋯ & 0 & 1 & 0 & 0 & 0 & 0 & 0 & 0 & 0 & 1\\\\\n",
       "\tZWE & 0 & 0 & 1 & 0 & 0 & 0 & 0 & 0 & 0 & 0 & ⋯ & 0 & 1 & 0 & 0 & 0 & 0 & 1 & 0 & 1 & 0\\\\\n",
       "\\end{tabular}\n"
      ],
      "text/markdown": [
       "\n",
       "A data.frame: 22 × 22\n",
       "\n",
       "| <!--/--> | AGO &lt;dbl&gt; | BEN &lt;dbl&gt; | BWA &lt;dbl&gt; | BFA &lt;dbl&gt; | CMR &lt;dbl&gt; | COD &lt;dbl&gt; | COG &lt;dbl&gt; | GMB &lt;dbl&gt; | GHA &lt;dbl&gt; | KEN &lt;dbl&gt; | ⋯ ⋯ | MUS &lt;dbl&gt; | NAM &lt;dbl&gt; | NER &lt;dbl&gt; | NGA &lt;dbl&gt; | RWA &lt;dbl&gt; | SEN &lt;dbl&gt; | ZAF &lt;dbl&gt; | UGA &lt;dbl&gt; | ZMB &lt;dbl&gt; | ZWE &lt;dbl&gt; |\n",
       "|---|---|---|---|---|---|---|---|---|---|---|---|---|---|---|---|---|---|---|---|---|---|\n",
       "| AGO | 0 | 0 | 0 | 0 | 0 | 1 | 1 | 0 | 0 | 0 | ⋯ | 0 | 1 | 0 | 0 | 0 | 0 | 0 | 0 | 1 | 0 |\n",
       "| BEN | 0 | 0 | 0 | 1 | 0 | 0 | 0 | 0 | 0 | 0 | ⋯ | 0 | 0 | 1 | 1 | 0 | 0 | 0 | 0 | 0 | 0 |\n",
       "| BWA | 0 | 0 | 0 | 0 | 0 | 0 | 0 | 0 | 0 | 0 | ⋯ | 0 | 1 | 0 | 0 | 0 | 0 | 1 | 0 | 0 | 1 |\n",
       "| BFA | 0 | 1 | 0 | 0 | 0 | 0 | 0 | 0 | 1 | 0 | ⋯ | 0 | 0 | 1 | 0 | 0 | 0 | 0 | 0 | 0 | 0 |\n",
       "| CMR | 0 | 0 | 0 | 0 | 0 | 0 | 1 | 0 | 0 | 0 | ⋯ | 0 | 0 | 0 | 1 | 0 | 0 | 0 | 0 | 0 | 0 |\n",
       "| COD | 1 | 0 | 0 | 0 | 0 | 0 | 1 | 0 | 0 | 0 | ⋯ | 0 | 0 | 0 | 0 | 1 | 0 | 0 | 1 | 1 | 0 |\n",
       "| COG | 1 | 0 | 0 | 0 | 1 | 1 | 0 | 0 | 0 | 0 | ⋯ | 0 | 0 | 0 | 0 | 0 | 0 | 0 | 0 | 0 | 0 |\n",
       "| GMB | 0 | 0 | 0 | 0 | 0 | 0 | 0 | 0 | 0 | 0 | ⋯ | 0 | 0 | 0 | 0 | 0 | 1 | 0 | 0 | 0 | 0 |\n",
       "| GHA | 0 | 0 | 0 | 1 | 0 | 0 | 0 | 0 | 0 | 0 | ⋯ | 0 | 0 | 0 | 0 | 0 | 0 | 0 | 0 | 0 | 0 |\n",
       "| KEN | 0 | 0 | 0 | 0 | 0 | 0 | 0 | 0 | 0 | 0 | ⋯ | 0 | 0 | 0 | 0 | 0 | 0 | 0 | 1 | 0 | 0 |\n",
       "| MDG | 0 | 0 | 0 | 0 | 0 | 0 | 0 | 0 | 0 | 1 | ⋯ | 0 | 0 | 0 | 0 | 0 | 0 | 0 | 0 | 0 | 0 |\n",
       "| MLI | 0 | 0 | 0 | 1 | 0 | 0 | 0 | 0 | 0 | 0 | ⋯ | 0 | 0 | 1 | 0 | 0 | 1 | 0 | 0 | 0 | 0 |\n",
       "| MUS | 0 | 0 | 0 | 0 | 0 | 0 | 0 | 0 | 0 | 0 | ⋯ | 0 | 0 | 0 | 0 | 0 | 0 | 0 | 0 | 0 | 0 |\n",
       "| NAM | 1 | 0 | 1 | 0 | 0 | 0 | 0 | 0 | 0 | 0 | ⋯ | 0 | 0 | 0 | 0 | 0 | 0 | 1 | 0 | 1 | 1 |\n",
       "| NER | 0 | 1 | 0 | 1 | 0 | 0 | 0 | 0 | 0 | 0 | ⋯ | 0 | 0 | 0 | 1 | 0 | 0 | 0 | 0 | 0 | 0 |\n",
       "| NGA | 0 | 1 | 0 | 0 | 1 | 0 | 0 | 0 | 0 | 0 | ⋯ | 0 | 0 | 1 | 0 | 0 | 0 | 0 | 0 | 0 | 0 |\n",
       "| RWA | 0 | 0 | 0 | 0 | 0 | 1 | 0 | 0 | 0 | 0 | ⋯ | 0 | 0 | 0 | 0 | 0 | 0 | 0 | 1 | 0 | 0 |\n",
       "| SEN | 0 | 0 | 0 | 0 | 0 | 0 | 0 | 1 | 0 | 0 | ⋯ | 0 | 0 | 0 | 0 | 0 | 0 | 0 | 0 | 0 | 0 |\n",
       "| ZAF | 0 | 0 | 1 | 0 | 0 | 0 | 0 | 0 | 0 | 0 | ⋯ | 0 | 1 | 0 | 0 | 0 | 0 | 0 | 0 | 0 | 1 |\n",
       "| UGA | 0 | 0 | 0 | 0 | 0 | 1 | 0 | 0 | 0 | 1 | ⋯ | 0 | 0 | 0 | 0 | 1 | 0 | 0 | 0 | 0 | 0 |\n",
       "| ZMB | 1 | 0 | 0 | 0 | 0 | 1 | 0 | 0 | 0 | 0 | ⋯ | 0 | 1 | 0 | 0 | 0 | 0 | 0 | 0 | 0 | 1 |\n",
       "| ZWE | 0 | 0 | 1 | 0 | 0 | 0 | 0 | 0 | 0 | 0 | ⋯ | 0 | 1 | 0 | 0 | 0 | 0 | 1 | 0 | 1 | 0 |\n",
       "\n"
      ],
      "text/plain": [
       "    AGO BEN BWA BFA CMR COD COG GMB GHA KEN ⋯ MUS NAM NER NGA RWA SEN ZAF UGA\n",
       "AGO 0   0   0   0   0   1   1   0   0   0   ⋯ 0   1   0   0   0   0   0   0  \n",
       "BEN 0   0   0   1   0   0   0   0   0   0   ⋯ 0   0   1   1   0   0   0   0  \n",
       "BWA 0   0   0   0   0   0   0   0   0   0   ⋯ 0   1   0   0   0   0   1   0  \n",
       "BFA 0   1   0   0   0   0   0   0   1   0   ⋯ 0   0   1   0   0   0   0   0  \n",
       "CMR 0   0   0   0   0   0   1   0   0   0   ⋯ 0   0   0   1   0   0   0   0  \n",
       "COD 1   0   0   0   0   0   1   0   0   0   ⋯ 0   0   0   0   1   0   0   1  \n",
       "COG 1   0   0   0   1   1   0   0   0   0   ⋯ 0   0   0   0   0   0   0   0  \n",
       "GMB 0   0   0   0   0   0   0   0   0   0   ⋯ 0   0   0   0   0   1   0   0  \n",
       "GHA 0   0   0   1   0   0   0   0   0   0   ⋯ 0   0   0   0   0   0   0   0  \n",
       "KEN 0   0   0   0   0   0   0   0   0   0   ⋯ 0   0   0   0   0   0   0   1  \n",
       "MDG 0   0   0   0   0   0   0   0   0   1   ⋯ 0   0   0   0   0   0   0   0  \n",
       "MLI 0   0   0   1   0   0   0   0   0   0   ⋯ 0   0   1   0   0   1   0   0  \n",
       "MUS 0   0   0   0   0   0   0   0   0   0   ⋯ 0   0   0   0   0   0   0   0  \n",
       "NAM 1   0   1   0   0   0   0   0   0   0   ⋯ 0   0   0   0   0   0   1   0  \n",
       "NER 0   1   0   1   0   0   0   0   0   0   ⋯ 0   0   0   1   0   0   0   0  \n",
       "NGA 0   1   0   0   1   0   0   0   0   0   ⋯ 0   0   1   0   0   0   0   0  \n",
       "RWA 0   0   0   0   0   1   0   0   0   0   ⋯ 0   0   0   0   0   0   0   1  \n",
       "SEN 0   0   0   0   0   0   0   1   0   0   ⋯ 0   0   0   0   0   0   0   0  \n",
       "ZAF 0   0   1   0   0   0   0   0   0   0   ⋯ 0   1   0   0   0   0   0   0  \n",
       "UGA 0   0   0   0   0   1   0   0   0   1   ⋯ 0   0   0   0   1   0   0   0  \n",
       "ZMB 1   0   0   0   0   1   0   0   0   0   ⋯ 0   1   0   0   0   0   0   0  \n",
       "ZWE 0   0   1   0   0   0   0   0   0   0   ⋯ 0   1   0   0   0   0   1   0  \n",
       "    ZMB ZWE\n",
       "AGO 1   0  \n",
       "BEN 0   0  \n",
       "BWA 0   1  \n",
       "BFA 0   0  \n",
       "CMR 0   0  \n",
       "COD 1   0  \n",
       "COG 0   0  \n",
       "GMB 0   0  \n",
       "GHA 0   0  \n",
       "KEN 0   0  \n",
       "MDG 0   0  \n",
       "MLI 0   0  \n",
       "MUS 0   0  \n",
       "NAM 1   1  \n",
       "NER 0   0  \n",
       "NGA 0   0  \n",
       "RWA 0   0  \n",
       "SEN 0   0  \n",
       "ZAF 0   1  \n",
       "UGA 0   0  \n",
       "ZMB 0   1  \n",
       "ZWE 1   0  "
      ]
     },
     "metadata": {},
     "output_type": "display_data"
    }
   ],
   "source": [
    "library(conflicted)\n",
    "library(plm)\n",
    "library(psych)\n",
    "library(readxl)\n",
    "library(splm)\n",
    "library(tidyverse)\n",
    "conflict_prefer(\"lag\", \"stats\")\n",
    "conflict_prefer(\"filter\", \"dplyr\")\n",
    "\n",
    "adj_mtx <- read_csv(\n",
    "    file.path(path.expand(\"~\"), \"OneDrive\", \"Rawdata\", \"Geographic Information Data\", \"adj_mtx.csv\"),\n",
    ") %>% column_to_rownames(., var = \"GID_0\")\n",
    "countrycode <- read_excel(\n",
    "    file.path(path.expand(\"~\"), \"OneDrive\", \"Rawdata\", \"Country Code\", \"Countrycode.xlsx\"),\n",
    ")\n",
    "df <- pdata.frame(read_excel(file.path(path.expand(\"~\"), \"OneDrive\", \"PhD Dissertation\", \"Data_Code\", \"Data\", \"index_data_regvariables.xlsx\")),\n",
    "    index = c(\"Numeric\", \"Year\")\n",
    ")\n",
    "df[\"lnFDIstock_w\"] <- as.vector(winsor(df[\"lnFDIstock\"], trim = .01))\n",
    "df[\"lnFDIstock_w2\"] <- as.vector(winsor(df[\"lnFDIstock\"], trim = .05))\n",
    "df[\"s_lnFDIstock_w\"] <- as.vector(scale(df[\"lnFDIstock_w\"]))\n",
    "df[\"SDI\"] <- df[\"SDI\"] * 100\n",
    "# df['s_lnGNI'] <- as.vector(scale(df['lnGNI']))\n",
    "df_sum <- df %>% select(\"SDI\", \"lnFDIstock_w\", \"financial\", \"urban\", \"tax\", \"war_intensity\")\n",
    "df_withoutsdi <- df %>% select(\"lnFDIstock_w\", \"financial\", \"urban\", \"tax\", \"war_intensity\")\n"
   ]
  },
  {
   "cell_type": "code",
   "execution_count": 41,
   "metadata": {
    "vscode": {
     "languageId": "r"
    }
   },
   "outputs": [],
   "source": [
    "roi <- (countrycode %>% filter(Numeric %in% (df$Numeric %>% unique())))[[\"Alpha-3 code\"]]\n",
    "roi_adj_mtx <- adj_mtx[roi, roi]\n",
    "roi_adj_mtx[\"KEN\", \"MDG\"] <- 1\n",
    "roi_adj_mtx[\"MDG\", \"KEN\"] <- 1\n",
    "roi_adj_mtx[\"MUS\", \"MDG\"] <- 1\n",
    "roi_adj_mtx[\"MDG\", \"MUS\"] <- 1\n",
    "roi_adj_mtx <- roi_adj_mtx %>% as.matrix()"
   ]
  },
  {
   "cell_type": "code",
   "execution_count": 49,
   "metadata": {
    "vscode": {
     "languageId": "r"
    }
   },
   "outputs": [
    {
     "name": "stderr",
     "output_type": "stream",
     "text": [
      "Warning message in sqrt(Vd1):\n",
      "“NaNs produced”\n"
     ]
    },
    {
     "data": {
      "text/plain": [
       "\n",
       "\tBaltagi, Song and Koh SLM1 marginal test\n",
       "\n",
       "data:  SDI ~ lnFDIstock + financial + urban + tax + war_intensity +     lngnic + WGI\n",
       "LM1 = NaN, p-value = NA\n",
       "alternative hypothesis: Random effects\n"
      ]
     },
     "metadata": {},
     "output_type": "display_data"
    }
   ],
   "source": [
    "fm <- SDI ~ lnFDIstock + financial + urban + tax + war_intensity + lngnic + WGI\n",
    "bsktest(fm,data=df, listw = spdep::mat2listw(roi_adj_mtx), test=\"LM1\")"
   ]
  },
  {
   "cell_type": "code",
   "execution_count": 51,
   "metadata": {
    "vscode": {
     "languageId": "r"
    }
   },
   "outputs": [
    {
     "name": "stderr",
     "output_type": "stream",
     "text": [
      "Warning message in spdep::mat2listw(roi_adj_mtx):\n",
      "“style is M (missing); style should be set to a valid value”\n"
     ]
    },
    {
     "data": {
      "text/plain": [
       "Spatial panel fixed effects error model\n",
       " \n",
       "\n",
       "Call:\n",
       "spml(formula = fm, data = df, listw = spdep::mat2listw(roi_adj_mtx), \n",
       "    model = \"within\")\n",
       "\n",
       "Residuals:\n",
       "    Min.  1st Qu.   Median  3rd Qu.     Max. \n",
       "-4.34245 -0.76757 -0.09911  0.59802  7.28667 \n",
       "\n",
       "Spatial error parameter:\n",
       "    Estimate Std. Error t-value  Pr(>|t|)    \n",
       "rho 0.104358   0.017654  5.9112 3.397e-09 ***\n",
       "\n",
       "Coefficients:\n",
       "               Estimate Std. Error t-value  Pr(>|t|)    \n",
       "lnFDIstock     0.463410   0.137791  3.3631 0.0007707 ***\n",
       "financial      0.226341   0.051243  4.4170 1.001e-05 ***\n",
       "urban         -0.738895   0.199172 -3.7098 0.0002074 ***\n",
       "tax           -5.562654   4.917438 -1.1312 0.2579668    \n",
       "war_intensity  0.020025   0.121895  0.1643 0.8695130    \n",
       "lngnic         1.640657   0.354186  4.6322 3.618e-06 ***\n",
       "WGI           -0.522717   0.554435 -0.9428 0.3457869    \n",
       "---\n",
       "Signif. codes:  0 ‘***’ 0.001 ‘**’ 0.01 ‘*’ 0.05 ‘.’ 0.1 ‘ ’ 1\n"
      ]
     },
     "metadata": {},
     "output_type": "display_data"
    }
   ],
   "source": [
    "spml(fm, data = df, listw = spdep::mat2listw(roi_adj_mtx), model=\"within\") %>% summary()"
   ]
  }
 ],
 "metadata": {
  "kernelspec": {
   "display_name": "R",
   "language": "R",
   "name": "ir"
  },
  "language_info": {
   "codemirror_mode": "r",
   "file_extension": ".r",
   "mimetype": "text/x-r-source",
   "name": "R",
   "pygments_lexer": "r",
   "version": "4.2.3"
  },
  "orig_nbformat": 4
 },
 "nbformat": 4,
 "nbformat_minor": 2
}
