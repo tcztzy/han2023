{
 "cells": [
  {
   "cell_type": "code",
   "execution_count": 1,
   "id": "729ac7c2-4354-4793-a43d-ecd5915ab9de",
   "metadata": {},
   "outputs": [
    {
     "name": "stderr",
     "output_type": "stream",
     "text": [
      "── \u001b[1mAttaching core tidyverse packages\u001b[22m ──────────────────── tidyverse 2.0.0 ──\n",
      "\u001b[32m✔\u001b[39m \u001b[34mdplyr    \u001b[39m 1.1.2     \u001b[32m✔\u001b[39m \u001b[34mreadr    \u001b[39m 2.1.4\n",
      "\u001b[32m✔\u001b[39m \u001b[34mforcats  \u001b[39m 1.0.0     \u001b[32m✔\u001b[39m \u001b[34mstringr  \u001b[39m 1.5.0\n",
      "\u001b[32m✔\u001b[39m \u001b[34mggplot2  \u001b[39m 3.4.2     \u001b[32m✔\u001b[39m \u001b[34mtibble   \u001b[39m 3.2.1\n",
      "\u001b[32m✔\u001b[39m \u001b[34mlubridate\u001b[39m 1.9.2     \u001b[32m✔\u001b[39m \u001b[34mtidyr    \u001b[39m 1.3.0\n",
      "\u001b[32m✔\u001b[39m \u001b[34mpurrr    \u001b[39m 1.0.1     \n",
      "#refugeeswelcome\n",
      "\n",
      "\u001b[1m\u001b[22m\u001b[90m[conflicted]\u001b[39m Will prefer \u001b[1m\u001b[34mstats\u001b[39m\u001b[22m::lag over any other package.\n",
      "\u001b[1m\u001b[22m\u001b[90m[conflicted]\u001b[39m Will prefer \u001b[1m\u001b[34mmodelsummary\u001b[39m\u001b[22m::Mean over any other package.\n",
      "\u001b[1m\u001b[22m\u001b[90m[conflicted]\u001b[39m Will prefer \u001b[1m\u001b[34mmodelsummary\u001b[39m\u001b[22m::N over any other package.\n",
      "\u001b[1m\u001b[22m\u001b[90m[conflicted]\u001b[39m Will prefer \u001b[1m\u001b[34mmodelsummary\u001b[39m\u001b[22m::SD over any other package.\n",
      "\u001b[1m\u001b[22m\u001b[90m[conflicted]\u001b[39m Removing existing preference.\n",
      "\u001b[1m\u001b[22m\u001b[90m[conflicted]\u001b[39m Will prefer \u001b[1m\u001b[34mplm\u001b[39m\u001b[22m::lag over any other package.\n"
     ]
    }
   ],
   "source": [
    "library(conflicted)\n",
    "library(readxl)\n",
    "library(gtools)\n",
    "library(plm)\n",
    "library(tidyverse)\n",
    "library(modelsummary)\n",
    "library(huxtable)\n",
    "library(dplyr)\n",
    "#library(bda)\n",
    "library(writexl)\n",
    "#library(Hmisc)\n",
    "library(sjPlot)\n",
    "library(DescTools)\n",
    "library(caTools)\n",
    "library(psych)\n",
    "\n",
    "conflict_prefer(\"lag\", \"stats\")\n",
    "conflict_prefer(\"Mean\", \"modelsummary\")\n",
    "conflict_prefer(\"N\", \"modelsummary\")\n",
    "conflict_prefer(\"SD\", \"modelsummary\")\n",
    "conflicted::conflicts_prefer(plm::lag)\n",
    "\n",
    "# Override default glance.pgmm for summary control\n",
    "glance.pgmm <- function(x, robust = FALSE, ...) {\n",
    "  asummary <- summary(x, robust = robust)\n",
    "  pdim <- attr(asummary, \"pdim\")\n",
    "  data.frame(\n",
    "    N      = pdim$nT$n * (pdim$nT$T - 1),\n",
    "    Sargan = asummary$sargan$p.value[[\"chisq\"]],\n",
    "    AR1    = asummary$m1$p.value[1],\n",
    "    AR2    = asummary$m2$p.value[1]\n",
    "  )\n",
    "}"
   ]
  },
  {
   "cell_type": "code",
   "execution_count": 5,
   "id": "d3c792b2-f387-4985-a5ac-34c8daec4e1c",
   "metadata": {},
   "outputs": [],
   "source": [
    "df <- pdata.frame(read.csv('/Users/hanyu/OneDrive/PhD Dissertation/Data_Code/Data/index_data_regvariables.csv'), index=c(\"Numeric\",\"Year\"))\n"
   ]
  },
  {
   "cell_type": "code",
   "execution_count": 6,
   "id": "d696a62c-fe27-45e9-8210-1c0523f496f3",
   "metadata": {},
   "outputs": [],
   "source": [
    "df_sum <- df %>% select('SDI','FDIpercent','WGI','financial','tradeopen','gove_expen')\n",
    "datasummary(All(df_sum) ~ N + Min + Max + Mean + SD,\n",
    "            data = df,\n",
    "            fmt = 2,\n",
    "            output = \"/Users/hanyu/OneDrive/PhD Dissertation/Regression Results/summary.docx\")\n"
   ]
  },
  {
   "cell_type": "code",
   "execution_count": 4,
   "id": "6c1c5477-e55b-4469-9c6c-fc4e3ef127ef",
   "metadata": {},
   "outputs": [
    {
     "ename": "ERROR",
     "evalue": "Error in parse(text = x, srcfile = src): <text>:16:1: 意外的'}'\n15:   pdata.frame(df, index = c(\"Numeric\", \"Year\"))\n16: }\n    ^\n",
     "output_type": "error",
     "traceback": [
      "Error in parse(text = x, srcfile = src): <text>:16:1: 意外的'}'\n15:   pdata.frame(df, index = c(\"Numeric\", \"Year\"))\n16: }\n    ^\nTraceback:\n"
     ]
    }
   ],
   "source": [
    "df[\"s_FDIpercent\"] <- as.vector(scale(df[\"FDIpercent\"], scale = FALSE))\n",
    "df[\"s_lnFDIstock\"] <- as.vector(scale(df[\"lnFDIstock\"], scale = FALSE))\n",
    "df[\"s_WGI\"] <- as.vector(scale(df[\"WGI\"], scale = FALSE))\n",
    "df[\"s_cce\"] <- as.vector(scale(df[\"cce\"], scale = FALSE))\n",
    "df[\"s_pve\"] <- as.vector(scale(df[\"pve\"], scale = FALSE))\n",
    "df[\"s_rqe\"] <- as.vector(scale(df[\"rqe\"], scale = FALSE))\n",
    "df[\"s_vae\"] <- as.vector(scale(df[\"vae\"], scale = FALSE))\n",
    "df[\"s_rle\"] <- as.vector(scale(df[\"rle\"], scale = FALSE))\n",
    "df[\"s_gee\"] <- as.vector(scale(df[\"gee\"], scale = FALSE))\n",
    "df[\"s_eduin\"] <- as.vector(scale(df[\"eduin\"], scale = FALSE))\n",
    "df[\"s_edupr\"] <- as.vector(scale(df[\"edupr\"], scale = FALSE))\n",
    "df[\"s_eduse\"] <- as.vector(scale(df[\"eduse\"], scale = FALSE))\n",
    "df['FDIpercent_w'] <- as.vector(winsor(df[\"FDIpercent\"], trim = .01))\n",
    "df[\"s_FDIpercent_w\"] <- as.vector(scale(df[\"FDIpercent_w\"], scale = FALSE))\n",
    "  pdata.frame(df, index = c(\"Numeric\", \"Year\"))\n",
    "}"
   ]
  },
  {
   "cell_type": "code",
   "execution_count": null,
   "id": "5aa735fd-ad4a-4ddc-a33e-d825f2c66994",
   "metadata": {},
   "outputs": [],
   "source": [
    "describeData(df)"
   ]
  }
 ],
 "metadata": {
  "kernelspec": {
   "display_name": "R (osx-64)",
   "language": "R",
   "name": "ir"
  },
  "language_info": {
   "codemirror_mode": "r",
   "file_extension": ".r",
   "mimetype": "text/x-r-source",
   "name": "R",
   "pygments_lexer": "r",
   "version": "4.3.1"
  }
 },
 "nbformat": 4,
 "nbformat_minor": 5
}
